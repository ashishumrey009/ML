{
 "cells": [
  {
   "cell_type": "code",
   "execution_count": 1,
   "metadata": {
    "collapsed": true
   },
   "outputs": [],
   "source": [
    "import numpy as np\n",
    "import pandas as pd\n",
    "import matplotlib.pyplot as plt\n",
    "from scipy.io import loadmat\n",
    "%matplotlib inline"
   ]
  },
  {
   "cell_type": "code",
   "execution_count": 2,
   "metadata": {
    "collapsed": true
   },
   "outputs": [],
   "source": [
    "data = loadmat(\"E:\\MLNEW _BTM\\ex7faces.mat\")"
   ]
  },
  {
   "cell_type": "code",
   "execution_count": 3,
   "metadata": {
    "collapsed": true
   },
   "outputs": [],
   "source": [
    "X =data['X']"
   ]
  },
  {
   "cell_type": "code",
   "execution_count": 4,
   "metadata": {},
   "outputs": [
    {
     "data": {
      "text/plain": [
       "(5000, 1024)"
      ]
     },
     "execution_count": 4,
     "metadata": {},
     "output_type": "execute_result"
    }
   ],
   "source": [
    "X.shape"
   ]
  },
  {
   "cell_type": "code",
   "execution_count": 5,
   "metadata": {},
   "outputs": [
    {
     "data": {
      "text/plain": [
       "<matplotlib.image.AxesImage at 0x22079d2e5c0>"
      ]
     },
     "execution_count": 5,
     "metadata": {},
     "output_type": "execute_result"
    },
    {
     "data": {
      "image/png": "[encoded data removed]",
      "text/plain": [
       "<matplotlib.figure.Figure at 0x22079a59a90>"
      ]
     },
     "metadata": {},
     "output_type": "display_data"
    }
   ],
   "source": [
    "number = np.reshape(X[4300,:],(32,32))\n",
    "plt.imshow(number)"
   ]
  },
  {
   "cell_type": "code",
   "execution_count": 6,
   "metadata": {
    "collapsed": true
   },
   "outputs": [],
   "source": [
    "def pca(X):\n",
    "    X = (X-X.mean())/(X.std())\n",
    "    X = np.matrix(X)\n",
    "    cov = (X.T*X)/X.shape[0]\n",
    "    U,S,V = np.linalg.svd(cov)\n",
    "    return U,S,V"
   ]
  },
  {
   "cell_type": "code",
   "execution_count": 7,
   "metadata": {
    "collapsed": true
   },
   "outputs": [],
   "source": [
    "U,S,V = pca(X)"
   ]
  },
  {
   "cell_type": "code",
   "execution_count": 8,
   "metadata": {},
   "outputs": [
    {
     "data": {
      "text/plain": [
       "(matrix([[-0.01640988, -0.04222849, -0.0421747 , ...,  0.00078787,\n",
       "           0.00059301,  0.00069988],\n",
       "         [-0.01692408, -0.04109658, -0.04413594, ..., -0.0014743 ,\n",
       "          -0.00159743, -0.00183183],\n",
       "         [-0.01714767, -0.03963341, -0.04577663, ...,  0.00796443,\n",
       "           0.00053733,  0.00152458],\n",
       "         ..., \n",
       "         [-0.0085838 , -0.05826306,  0.04851035, ..., -0.00294466,\n",
       "           0.00394326,  0.00497121],\n",
       "         [-0.00680308, -0.06081527,  0.04664601, ...,  0.00038729,\n",
       "          -0.00186067, -0.00185365],\n",
       "         [-0.005765  , -0.06173977,  0.04483153, ...,  0.00228049,\n",
       "           0.00058499,  0.00071138]]),\n",
       " array([  2.62189504e+02,   1.86275072e+02,   1.17780320e+02, ...,\n",
       "          1.76409446e-04,   1.66475262e-04,   1.60785895e-04]),\n",
       " matrix([[-0.01640988, -0.01692408, -0.01714767, ..., -0.0085838 ,\n",
       "          -0.00680308, -0.005765  ],\n",
       "         [-0.04222849, -0.04109658, -0.03963341, ..., -0.05826306,\n",
       "          -0.06081527, -0.06173977],\n",
       "         [-0.0421747 , -0.04413594, -0.04577663, ...,  0.04851035,\n",
       "           0.04664601,  0.04483153],\n",
       "         ..., \n",
       "         [ 0.00078787, -0.0014743 ,  0.00796443, ..., -0.00294466,\n",
       "           0.00038729,  0.00228049],\n",
       "         [ 0.00059301, -0.00159743,  0.00053733, ...,  0.00394326,\n",
       "          -0.00186067,  0.00058499],\n",
       "         [ 0.00069988, -0.00183183,  0.00152458, ...,  0.00497121,\n",
       "          -0.00185365,  0.00071138]]))"
      ]
     },
     "execution_count": 8,
     "metadata": {},
     "output_type": "execute_result"
    }
   ],
   "source": [
    "U,S,V"
   ]
  },
  {
   "cell_type": "code",
   "execution_count": 9,
   "metadata": {
    "collapsed": true
   },
   "outputs": [],
   "source": [
    "def project_data(X,U,k):\n",
    "    U_reduced = U[:,:k]\n",
    "    X = np.matrix(X)\n",
    "    return X*U_reduced"
   ]
  },
  {
   "cell_type": "code",
   "execution_count": 10,
   "metadata": {
    "collapsed": true
   },
   "outputs": [],
   "source": [
    "Z  = project_data(X,U,100)"
   ]
  },
  {
   "cell_type": "code",
   "execution_count": 11,
   "metadata": {},
   "outputs": [
    {
     "data": {
      "text/plain": [
       "((5000, 100), (5000, 1024))"
      ]
     },
     "execution_count": 11,
     "metadata": {},
     "output_type": "execute_result"
    }
   ],
   "source": [
    "Z.shape,X.shape"
   ]
  },
  {
   "cell_type": "code",
   "execution_count": 12,
   "metadata": {
    "collapsed": true
   },
   "outputs": [],
   "source": [
    "def recover(Z,U,k):\n",
    "    U_reduced = U [:,:k]\n",
    "    return np.dot(Z,U_reduced.T)"
   ]
  },
  {
   "cell_type": "code",
   "execution_count": 13,
   "metadata": {
    "collapsed": true
   },
   "outputs": [],
   "source": [
    "X_recoverd =  recover(Z,U,100)"
   ]
  },
  {
   "cell_type": "code",
   "execution_count": 14,
   "metadata": {},
   "outputs": [
    {
     "data": {
      "text/plain": [
       "(5000, 1024)"
      ]
     },
     "execution_count": 14,
     "metadata": {},
     "output_type": "execute_result"
    }
   ],
   "source": [
    "X_recoverd.shape"
   ]
  },
  {
   "cell_type": "code",
   "execution_count": 15,
   "metadata": {},
   "outputs": [
    {
     "data": {
      "text/plain": [
       "<matplotlib.image.AxesImage at 0x22002b280f0>"
      ]
     },
     "execution_count": 15,
     "metadata": {},
     "output_type": "execute_result"
    },
    {
     "data": {
      "image/png": "[encoded data removed]",
      "text/plain": [
       "<matplotlib.figure.Figure at 0x22079a3c320>"
      ]
     },
     "metadata": {},
     "output_type": "display_data"
    }
   ],
   "source": [
    "number = np.reshape(X_recoverd[4300,:],(32,32))\n",
    "plt.imshow(number)"
   ]
  },
  {
   "cell_type": "code",
   "execution_count": null,
   "metadata": {
    "collapsed": true
   },
   "outputs": [],
   "source": []
  }
 ],
 "metadata": {
  "kernelspec": {
   "display_name": "Python 3",
   "language": "python",
   "name": "python3"
  },
  "language_info": {
   "codemirror_mode": {
    "name": "ipython",
    "version": 3
   },
   "file_extension": ".py",
   "mimetype": "text/x-python",
   "name": "python",
   "nbconvert_exporter": "python",
   "pygments_lexer": "ipython3",
   "version": "3.6.3"
  }
 },
 "nbformat": 4,
 "nbformat_minor": 2
}
